{
 "cells": [
  {
   "cell_type": "markdown",
   "id": "1f3d2939-92f9-4a0f-8df5-f7bb1b701f39",
   "metadata": {},
   "source": [
    "Q6. You are working for a travel agency, and your boss has asked you to analyze the Flight Price dataset to identify the peak travel season. What features would you analyze to identify the peak season, and how would you present your findings to your boss?\n",
    "\n",
    "To identify the peak travel season, you would analyze features such as:\n",
    "\n",
    "Departure date (month, season)\n",
    "Number of bookings per month\n",
    "Average flight price per month\n",
    "Number of flights available per month\n",
    "You could present your findings to your boss using visualizations such as line plots or bar plots showing the trends in bookings and flight prices over time.\n",
    "\n"
   ]
  },
  {
   "cell_type": "markdown",
   "id": "d414d0a7-caf1-41b3-94bf-ed26628543d1",
   "metadata": {},
   "source": [
    "Q7. You are a data analyst for a flight booking website, and you have been asked to analyze the Flight Price dataset to identify any trends in flight prices. What features would you analyze to identify these trends, and what visualizations would you use to present your findings to your team?\n",
    "\n",
    "To identify trends in flight prices, you would analyze features such as:\n",
    "\n",
    "Time of booking (day, week, month)\n",
    "Flight duration\n",
    "Airline\n",
    "Departure and arrival locations\n",
    "Seasonality\n",
    "You could present your findings to your team using visualizations such as line plots, scatter plots, or heatmaps to show the relationships between different features and flight prices.\n",
    "\n"
   ]
  },
  {
   "cell_type": "markdown",
   "id": "a04542b7-5f53-44cb-baf9-8133f90daaee",
   "metadata": {},
   "source": [
    "Q8. You are a data scientist working for an airline company, and you have been asked to analyze the Flight Price dataset to identify the factors that affect flight prices. What features would you analyze to identify these factors, and how would you present your findings to the management team?\n",
    "\n",
    "To identify factors affecting flight prices, you would analyze features such as:\n",
    "\n",
    "Airline\n",
    "Departure and arrival locations\n",
    "Flight duration\n",
    "Time of booking\n",
    "Seasonality\n",
    "Competition\n",
    "You could present your findings to the management team using visualizations such as bar plots, regression analysis results, or summary statistics to highlight the impact of each factor on flight prices. Additionally, you could provide recommendations for pricing strategies based on your analysis."
   ]
  },
  {
   "cell_type": "markdown",
   "id": "5e2171be-1f46-47e1-9732-971ac7ef8fdd",
   "metadata": {},
   "source": [
    "Q15. A company wants to launch a new app on the Google Playstore and has asked you to analyze the Google Playstore dataset to identify the most popular app categories. How would you approach this task, and what features would you analyze to make recommendations to the company?\n",
    "\n",
    "To identify the most popular app categories, I would approach the task as follows:\n",
    "\n",
    "Analyze Installations: Calculate the total number of installations for each app category to determine popularity.\n",
    "Analyze Ratings: Consider the average ratings of apps within each category to assess user satisfaction.\n",
    "Analyze Reviews: Examine the number of reviews for apps within each category as an indicator of user engagement.\n",
    "Analyze Pricing: Evaluate the pricing distribution within each category to understand user preferences regarding free vs. paid apps.\n",
    "Analyze Size: Assess the distribution of app sizes within each category to determine user preferences regarding app size.\n",
    "Based on these analyses, I would recommend app categories that exhibit high popularity, positive ratings, significant user engagement, and alignment with the company's goals and target audience preferences. Additionally, I would consider market trends and potential for growth in each category when making recommendations to the company.\n",
    "\n",
    "\n",
    "\n",
    "\n",
    "\n"
   ]
  },
  {
   "cell_type": "code",
   "execution_count": null,
   "id": "fab8dfd7-34e8-43e9-a36c-2438bd7a5e50",
   "metadata": {},
   "outputs": [],
   "source": []
  }
 ],
 "metadata": {
  "kernelspec": {
   "display_name": "Python 3 (ipykernel)",
   "language": "python",
   "name": "python3"
  },
  "language_info": {
   "codemirror_mode": {
    "name": "ipython",
    "version": 3
   },
   "file_extension": ".py",
   "mimetype": "text/x-python",
   "name": "python",
   "nbconvert_exporter": "python",
   "pygments_lexer": "ipython3",
   "version": "3.10.8"
  }
 },
 "nbformat": 4,
 "nbformat_minor": 5
}
